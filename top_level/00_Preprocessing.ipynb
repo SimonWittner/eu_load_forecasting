{
 "cells": [
  {
   "cell_type": "code",
   "execution_count": null,
   "metadata": {},
   "outputs": [],
   "source": [
    "import pandas as pd\n",
    "import numpy as np\n",
    "import sys\n",
    "from sklearn.preprocessing import StandardScaler, MinMaxScaler\n",
    "\n",
    "sys.path.append(\"../../\")\n",
    "from utils.data_processing import _drop_consecutive_nans, add_day_ahead_column\n",
    "from utils.error_metrics import _calc_mae, _calc_mse, _calc_rmse, _calc_nrmse, _calc_mape, _calc_mase, _calc_msse, _seas_naive_fcst, _calc_metrics\n",
    "from utils.clustering import mapping_tsfeatures, clustering, sum_until_threshold, mapping_energy_metrics\n",
    "\n",
    "### ML AZURE\n",
    "from azureml.core import Workspace, Dataset, Datastore\n",
    "from azure.ai.ml import MLClient\n",
    "from azure.identity import DefaultAzureCredential\n",
    "import mlflow\n",
    "\n",
    "from config import subscription_id, resource_group, workspace_name\n",
    "workspace = Workspace(subscription_id, resource_group, workspace_name)\n",
    "datastore = Datastore.get(workspace, \"workspaceblobstore\")\n",
    "credential = DefaultAzureCredential()\n",
    "\n",
    "ml_client = MLClient(\n",
    "    credential=credential,\n",
    "    subscription_id = subscription_id,\n",
    "    resource_group_name = resource_group,\n",
    "    workspace_name = workspace_name\n",
    ")\n",
    "\n",
    "import warnings\n",
    "warnings.simplefilter(action='ignore', category=Warning)\n",
    "\n",
    "### Plotting\n",
    "import plotly.graph_objs as go\n",
    "import plotly.express as px\n",
    "import matplotlib.pyplot as plt\n",
    "import matplotlib.dates as mdates\n",
    "plt.rcParams['font.family'] = 'serif'\n",
    "plt.rcParams['font.size'] = 13  # Font size\n",
    "stanford_colors = ['#1f78b5', '#33a12c', '#e41a1c', '#ff7f00', '#6a3d9b', '#b25928', #dark\n",
    "                   '#a7cfe4', '#b3e08b', '#fc9b9a', '#fec06f', '#cbb3d7', '#ffff9a'] #light\n",
    "plt.rcParams['axes.prop_cycle'] = plt.cycler(color=stanford_colors)"
   ]
  },
  {
   "cell_type": "markdown",
   "metadata": {},
   "source": [
    "# 1. Data Loading"
   ]
  },
  {
   "cell_type": "code",
   "execution_count": null,
   "metadata": {},
   "outputs": [],
   "source": [
    "### Load data \n",
    "\n",
    "uri = \"azureml://subscriptions/workspaceblobstore/paths/load_signal.csv\"\n",
    "df_load = pd.read_csv(uri)\n",
    "df_load = pd.melt(df_load, id_vars=['Time'], var_name='ID', value_name='y')\n",
    "df_load.rename(columns={'Time':'ds'}, inplace=True)\n",
    "df_load['ds'] = pd.to_datetime(df_load['ds'])"
   ]
  },
  {
   "cell_type": "code",
   "execution_count": null,
   "metadata": {},
   "outputs": [],
   "source": [
    "### Mapping\n",
    "\n",
    "uri = \"azureml://subscriptions/workspaceblobstore/paths/network_nodes.csv\"\n",
    "mapping = pd.read_csv(uri)\n",
    "mapping['ID'] = mapping['ID'].astype(str)\n",
    "median = mapping.groupby('country').agg({'latitude':'median', 'longitude':'median'}).reset_index()\n",
    "median = median.rename(columns={'latitude':'latitude_median', 'longitude':'longitude_median'})"
   ]
  },
  {
   "cell_type": "code",
   "execution_count": null,
   "metadata": {},
   "outputs": [],
   "source": [
    "### Load country weather data and mapping\n",
    "\n",
    "uri = \"azureml://subscriptions/workspaceblobstore/paths/01_open-meteo_countrymedian.csv\"\n",
    "country_weather = pd.read_csv(uri)\n",
    "uri = \"azureml://subscriptions/workspaceblobstore/paths/01_open-meteo_countrymedian_mapping.csv\"\n",
    "weather_mapping = pd.read_csv(uri)\n",
    "weather_mapping = weather_mapping.merge(median, left_index=True, right_index=True, how='left')\n",
    "\n",
    "country_weather['time'] = pd.to_datetime(country_weather['time'], unit='s')\n",
    "country_weather = country_weather.merge(weather_mapping[['location_id', 'country']], on='location_id', how='left')\n",
    "country_weather = country_weather.drop(columns=['location_id'])\n",
    "country_weather = country_weather.rename(columns={'time':'ds'})\n",
    "country_weather['ds'] = pd.to_datetime(country_weather['ds'])\n",
    "country_weather = country_weather[['country', 'ds', 'temperature_2m (°C)', 'relative_humidity_2m (%)', 'precipitation (mm)', 'cloud_cover (%)', 'wind_speed_10m (km/h)']]\n",
    "country_weather = country_weather.rename(columns={'temperature_2m (°C)':'temp', 'relative_humidity_2m (%)':'humidity', 'precipitation (mm)':'precipitation', 'cloud_cover (%)':'cloud', 'wind_speed_10m (km/h)':'wind'})"
   ]
  },
  {
   "cell_type": "markdown",
   "metadata": {},
   "source": [
    "# 2. Bus Data and Weather"
   ]
  },
  {
   "cell_type": "code",
   "execution_count": null,
   "metadata": {},
   "outputs": [],
   "source": [
    "### Load bus weather\n",
    "\n",
    "uri = \"azureml://subscriptions/workspaceblobstore/paths/weather_data.csv\"\n",
    "bus_weather = pd.read_csv(uri)\n",
    "bus_weather"
   ]
  },
  {
   "cell_type": "code",
   "execution_count": null,
   "metadata": {},
   "outputs": [],
   "source": [
    "### Preprocessing bus weather\n",
    "\n",
    "from scipy.spatial import cKDTree\n",
    "\n",
    "tree = cKDTree(bus_weather[['latitude', 'longitude']])\n",
    "distances, indices = tree.query(mapping[['latitude', 'longitude']], k=1)\n",
    "closest_coordinates = bus_weather.iloc[indices]\n",
    "closest_coordinates = closest_coordinates.rename(columns={'latitude':'latitude_closest', 'longitude':'longitude_closest'})\n",
    "weather_mapping_bus = pd.concat([mapping.reset_index(drop=True), closest_coordinates.reset_index(drop=True)], axis=1)\n",
    "weather_mapping_bus = weather_mapping_bus.drop(columns=['time', 't2m'])\n",
    "\n",
    "### Merge load with weather\n",
    "temp = weather_mapping_bus[['ID', 'latitude_closest', 'longitude_closest']]\n",
    "bus_weather = bus_weather.rename(columns={'time':'ds'})\n",
    "df_load = df_load.merge(temp, on='ID', how='left')\n",
    "df_load = df_load.rename(columns={'latitude_closest':'latitude', 'longitude_closest':'longitude'})\n",
    "df_load['ds'] = pd.to_datetime(df_load['ds'])\n",
    "bus_weather['ds'] = pd.to_datetime(bus_weather['ds'])\n",
    "df_load = df_load.merge(bus_weather, on=['latitude', 'longitude', 'ds'], how='left')\n",
    "df_load = df_load.drop(columns=['latitude', 'longitude'])\n",
    "\n",
    "df_load.to_csv('01_load_bus.csv', index=False)"
   ]
  },
  {
   "cell_type": "markdown",
   "metadata": {},
   "source": [
    "# 3. Aggregate Country Data"
   ]
  },
  {
   "cell_type": "code",
   "execution_count": null,
   "metadata": {},
   "outputs": [],
   "source": [
    "### Preparation\n",
    "\n",
    "temp = df_load.merge(mapping, on='ID', how='left')\n",
    "temp = temp[['ds', 'ID', 'y', 'country']]\n",
    "temp = temp.groupby(['ds', 'country']).agg({'y':'sum'}).reset_index()\n",
    "df_load_country = temp.merge(country_weather, on=['country', 'ds'], how='left')\n",
    "df_load_country.to_csv('00_load_country.csv', index=False)"
   ]
  }
 ],
 "metadata": {
  "kernelspec": {
   "display_name": "Python 3.10 - SDK v2",
   "language": "python",
   "name": "python310-sdkv2"
  },
  "language_info": {
   "codemirror_mode": {
    "name": "ipython",
    "version": 3
   },
   "file_extension": ".py",
   "mimetype": "text/x-python",
   "name": "python",
   "nbconvert_exporter": "python",
   "pygments_lexer": "ipython3",
   "version": "3.10.11"
  }
 },
 "nbformat": 4,
 "nbformat_minor": 2
}
